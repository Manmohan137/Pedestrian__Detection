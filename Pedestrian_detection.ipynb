{
 "cells": [
  {
   "cell_type": "code",
   "execution_count": null,
   "metadata": {},
   "outputs": [
    {
     "name": "stdout",
     "output_type": "stream",
     "text": [
      "Project Topic : Vehicle Classification\n"
     ]
    }
   ],
   "source": [
    "import cv2\n",
    "\n",
    "print('Project Topic : Vehicle Classification')\n",
    "\n",
    "\n",
    "video_src = 'pedestrians.avi'\n",
    "\n",
    "cap = cv2.VideoCapture(video_src)\n",
    "\n",
    "bike_cascade = cv2.CascadeClassifier('pedestrian.xml')\n",
    "\n",
    "while True:\n",
    "    ret, img = cap.read()\n",
    "\t\n",
    "    \n",
    "    if (type(img) == type(None)):\n",
    "        break\n",
    "    \n",
    "    gray = cv2.cvtColor(img, cv2.COLOR_BGR2GRAY)\n",
    "    bike = bike_cascade.detectMultiScale(gray)\n",
    "\n",
    "    for(a,b,c,d) in bike:\n",
    "        cv2.rectangle(img,(a,b),(a+c,b+d),(0,255,210),4)\n",
    "    \n",
    "    cv2.imshow('video', img)\n",
    "    \n",
    "    if cv2.waitKey(33) == 27:\n",
    "        break\n",
    "\n",
    "cv2.destroyAllWindows()"
   ]
  },
  {
   "cell_type": "code",
   "execution_count": null,
   "metadata": {},
   "outputs": [],
   "source": []
  }
 ],
 "metadata": {
  "kernelspec": {
   "display_name": "Python 3",
   "language": "python",
   "name": "python3"
  },
  "language_info": {
   "codemirror_mode": {
    "name": "ipython",
    "version": 3
   },
   "file_extension": ".py",
   "mimetype": "text/x-python",
   "name": "python",
   "nbconvert_exporter": "python",
   "pygments_lexer": "ipython3",
   "version": "3.6.5"
  }
 },
 "nbformat": 4,
 "nbformat_minor": 2
}
